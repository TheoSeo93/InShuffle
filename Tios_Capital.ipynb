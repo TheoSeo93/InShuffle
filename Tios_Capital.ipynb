{
  "nbformat": 4,
  "nbformat_minor": 0,
  "metadata": {
    "colab": {
      "name": "Tios_Capital.ipynb",
      "provenance": [],
      "authorship_tag": "ABX9TyN/RBeXq/k6BbJfytVjmdI8",
      "include_colab_link": true
    },
    "kernelspec": {
      "name": "python3",
      "display_name": "Python 3"
    }
  },
  "cells": [
    {
      "cell_type": "markdown",
      "metadata": {
        "id": "view-in-github",
        "colab_type": "text"
      },
      "source": [
        "<a href=\"https://colab.research.google.com/github/TheoSeo93/InShuffle/blob/master/Tios_Capital.ipynb\" target=\"_parent\"><img src=\"https://colab.research.google.com/assets/colab-badge.svg\" alt=\"Open In Colab\"/></a>"
      ]
    },
    {
      "cell_type": "markdown",
      "metadata": {
        "id": "XahSomdpNvdy",
        "colab_type": "text"
      },
      "source": [
        "Tios Capital Challenge"
      ]
    },
    {
      "cell_type": "code",
      "metadata": {
        "id": "6CobZqb3HrJ2",
        "colab_type": "code",
        "colab": {}
      },
      "source": [
        "\n",
        "def make_deck():\n",
        "  deck = []\n",
        "  # Generate a deck ranging 1 ~ 52\n",
        "  for i in range(1, 53):\n",
        "    deck.append(i)\n",
        "  return deck\n",
        "\n",
        "'''\n",
        "  Performs in-shuffle\n",
        "'''\n",
        "def in_shuffle(deck, iter):\n",
        "  for i in range(1, iter+1):\n",
        "    top_half = deck[:len(deck)//2]\n",
        "    bottom_half = deck[len(deck)//2:]\n",
        "    top_idx = 0 \n",
        "    bot_idx = 0\n",
        "\n",
        "    for pos in range(len(deck)):\n",
        "      if pos % 2 == 0:\n",
        "        deck[pos] = bottom_half[top_idx]\n",
        "        top_idx += 1\n",
        "      else:\n",
        "        deck[pos] = top_half[bot_idx]\n",
        "        bot_idx += 1\n",
        "\n",
        "  return deck  \n",
        "\n",
        "# Execute with the number of shuffles\n",
        "def execution(iterations):\n",
        "  deck = make_deck()\n",
        "  in_shuffle(deck, iterations)\n",
        "  print(deck)\n",
        "  return deck\n"
      ],
      "execution_count": 111,
      "outputs": []
    },
    {
      "cell_type": "markdown",
      "metadata": {
        "id": "6aOHZgSmV1XY",
        "colab_type": "text"
      },
      "source": [
        "* What is the position of the first card after the 7th shuffle?\n"
      ]
    },
    {
      "cell_type": "code",
      "metadata": {
        "id": "rCp_Wka3VyW3",
        "colab_type": "code",
        "colab": {
          "base_uri": "https://localhost:8080/",
          "height": 72
        },
        "outputId": "48e633f4-107c-43c9-ffa8-65343f81e459"
      },
      "source": [
        "deck = execution(7)\n",
        "print(\"The first card is at the index \" + str(deck.index(1)))\n"
      ],
      "execution_count": 85,
      "outputs": [
        {
          "output_type": "stream",
          "text": [
            "[41, 29, 17, 5, 46, 34, 22, 10, 51, 39, 27, 15, 3, 44, 32, 20, 8, 49, 37, 25, 13, 1, 42, 30, 18, 6, 47, 35, 23, 11, 52, 40, 28, 16, 4, 45, 33, 21, 9, 50, 38, 26, 14, 2, 43, 31, 19, 7, 48, 36, 24, 12]\n",
            "The first card is at the index 21\n"
          ],
          "name": "stdout"
        }
      ]
    },
    {
      "cell_type": "markdown",
      "metadata": {
        "id": "oVXWgYGDXRYN",
        "colab_type": "text"
      },
      "source": [
        "* How many times must one perform the shuffle so that the top card becomes the bottom card?\n"
      ]
    },
    {
      "cell_type": "code",
      "metadata": {
        "id": "klp_VUALXTch",
        "colab_type": "code",
        "colab": {
          "base_uri": "https://localhost:8080/",
          "height": 347
        },
        "outputId": "84b08223-6860-4447-81a4-b2fe508fb6dc"
      },
      "source": [
        "# If we keep track of the first card movement per iteration, the sequence of index goes as below. \n",
        "# I could find a pattern here.\n",
        "\n",
        "# 0 - 1 - 3 - 7 - 15 - 31 : Each step is increased as 1(0+1) - 2 - 4 - 8 - 16 ..\n",
        "''' \n",
        "    Now the top card is at the index 31, which is beyond midpoint(26). \n",
        "    This means the top card goes to somewhere in the top half in the next shuffle.\n",
        "    So set the position of the card as 2 * {31 - midpoint(25)} = 10). \n",
        "    Why multiply 2 ? We know that the top card will be positioned after at least 5 cards in the top half before shuffle, and the top card is at the 5th position in the bottom half.\n",
        "'''\n",
        "# 10 - 21 - 43  : Each step is increased as 11(10+1) - 22 - ...\n",
        "# Same goes next time:  2 * (43 - 26) = 34\n",
        "# 34 \n",
        "# 16 - 33 \n",
        "# 54\n",
        "# Now we can compute how many shuffles are required so that the top card is at the bottom of the deck.\n",
        "\n",
        "\n",
        "def find_topcard_at_bottom(iterations):\n",
        "  top_pos = 0\n",
        "  step = 1\n",
        "  for i in range(1, iterations+1):\n",
        "    if top_pos >= 26:\n",
        "      top_pos = (top_pos - 26) * 2\n",
        "      step = top_pos +1\n",
        "    else:\n",
        "      top_pos += step\n",
        "      step *= 2\n",
        "    if top_pos == 51:\n",
        "      print(str(i) + ' th shuffle')\n",
        "\n",
        "find_topcard_at_bottom(1000)\n"
      ],
      "execution_count": 109,
      "outputs": [
        {
          "output_type": "stream",
          "text": [
            "26 th shuffle\n",
            "78 th shuffle\n",
            "130 th shuffle\n",
            "182 th shuffle\n",
            "234 th shuffle\n",
            "286 th shuffle\n",
            "338 th shuffle\n",
            "390 th shuffle\n",
            "442 th shuffle\n",
            "494 th shuffle\n",
            "546 th shuffle\n",
            "598 th shuffle\n",
            "650 th shuffle\n",
            "702 th shuffle\n",
            "754 th shuffle\n",
            "806 th shuffle\n",
            "858 th shuffle\n",
            "910 th shuffle\n",
            "962 th shuffle\n"
          ],
          "name": "stdout"
        }
      ]
    },
    {
      "cell_type": "markdown",
      "metadata": {
        "id": "xkneZ4f2UbOn",
        "colab_type": "text"
      },
      "source": [
        "So we could check the top card is at the bottom at 26 + 52(i-1) shuffles. This is because the deck becomes as the same as the inital for every 52 shuffles. As you can see below, I can check the number of required shuffles to make it as the same as the first deck is 52."
      ]
    },
    {
      "cell_type": "code",
      "metadata": {
        "id": "MzBuKN9dUJk7",
        "colab_type": "code",
        "colab": {
          "base_uri": "https://localhost:8080/",
          "height": 55
        },
        "outputId": "5959cb71-5690-439d-b601-6ea9cb6bb464"
      },
      "source": [
        "execution(52)"
      ],
      "execution_count": 72,
      "outputs": [
        {
          "output_type": "stream",
          "text": [
            "[1, 2, 3, 4, 5, 6, 7, 8, 9, 10, 11, 12, 13, 14, 15, 16, 17, 18, 19, 20, 21, 22, 23, 24, 25, 26, 27, 28, 29, 30, 31, 32, 33, 34, 35, 36, 37, 38, 39, 40, 41, 42, 43, 44, 45, 46, 47, 48, 49, 50, 51, 52]\n"
          ],
          "name": "stdout"
        }
      ]
    },
    {
      "cell_type": "markdown",
      "metadata": {
        "id": "5jWlr2YSi6bY",
        "colab_type": "text"
      },
      "source": [
        "* When do the first and last cards in the deck touch?"
      ]
    },
    {
      "cell_type": "code",
      "metadata": {
        "id": "yLf9ccuIi9Ta",
        "colab_type": "code",
        "colab": {
          "base_uri": "https://localhost:8080/",
          "height": 156
        },
        "outputId": "4e2cdb44-90f8-4553-c01c-fda5c858c77e"
      },
      "source": [
        "# Even in the position of top card and bottom card, I could find a pattern here.\n",
        "\n",
        "deck = make_deck()\n",
        "print(deck.index(1))\n",
        "print(deck.index(52))\n",
        "\n",
        "deck = execution(1)\n",
        "print(deck.index(1))\n",
        "print(deck.index(52))\n",
        "\n",
        "deck = execution(2)\n",
        "print(deck.index(1))\n",
        "print(deck.index(52))\n"
      ],
      "execution_count": 118,
      "outputs": [
        {
          "output_type": "stream",
          "text": [
            "0\n",
            "51\n",
            "[27, 1, 28, 2, 29, 3, 30, 4, 31, 5, 32, 6, 33, 7, 34, 8, 35, 9, 36, 10, 37, 11, 38, 12, 39, 13, 40, 14, 41, 15, 42, 16, 43, 17, 44, 18, 45, 19, 46, 20, 47, 21, 48, 22, 49, 23, 50, 24, 51, 25, 52, 26]\n",
            "1\n",
            "50\n",
            "[40, 27, 14, 1, 41, 28, 15, 2, 42, 29, 16, 3, 43, 30, 17, 4, 44, 31, 18, 5, 45, 32, 19, 6, 46, 33, 20, 7, 47, 34, 21, 8, 48, 35, 22, 9, 49, 36, 23, 10, 50, 37, 24, 11, 51, 38, 25, 12, 52, 39, 26, 13]\n",
            "3\n",
            "48\n"
          ],
          "name": "stdout"
        }
      ]
    },
    {
      "cell_type": "markdown",
      "metadata": {
        "id": "1dmHRupHj8v0",
        "colab_type": "text"
      },
      "source": [
        "The pattern shows that whatever number of shuffles I do, the sum of two position of top card and bottom card is the same as 51. With this finding, I can find where two positions touches each other"
      ]
    },
    {
      "cell_type": "code",
      "metadata": {
        "id": "0XAkNLghkPo8",
        "colab_type": "code",
        "colab": {
          "base_uri": "https://localhost:8080/",
          "height": 676
        },
        "outputId": "bc80850d-a9b2-419d-e79f-d276f73aa626"
      },
      "source": [
        "def find_touches(iterations):\n",
        "  top_pos = 0\n",
        "  step = 1\n",
        "  for i in range(1, iterations+1):\n",
        "    if top_pos >= 26:\n",
        "      top_pos = (top_pos - 26) * 2\n",
        "      step = top_pos +1\n",
        "    else:\n",
        "      top_pos += step\n",
        "      step *= 2\n",
        "    \n",
        "    bottom_pos = len(deck) -1 - top_pos\n",
        "    if abs(top_pos - bottom_pos) == 1:\n",
        "      # if two positions are off by 1, they touch each other.\n",
        "      print(str(i) + ' th shuffle \\t')\n",
        "\n",
        "#Find the i th iterations where two positions touched by 1000 shuffles.\n",
        "find_touches(1000)"
      ],
      "execution_count": 119,
      "outputs": [
        {
          "output_type": "stream",
          "text": [
            "25 th shuffle \t\n",
            "51 th shuffle \t\n",
            "77 th shuffle \t\n",
            "103 th shuffle \t\n",
            "129 th shuffle \t\n",
            "155 th shuffle \t\n",
            "181 th shuffle \t\n",
            "207 th shuffle \t\n",
            "233 th shuffle \t\n",
            "259 th shuffle \t\n",
            "285 th shuffle \t\n",
            "311 th shuffle \t\n",
            "337 th shuffle \t\n",
            "363 th shuffle \t\n",
            "389 th shuffle \t\n",
            "415 th shuffle \t\n",
            "441 th shuffle \t\n",
            "467 th shuffle \t\n",
            "493 th shuffle \t\n",
            "519 th shuffle \t\n",
            "545 th shuffle \t\n",
            "571 th shuffle \t\n",
            "597 th shuffle \t\n",
            "623 th shuffle \t\n",
            "649 th shuffle \t\n",
            "675 th shuffle \t\n",
            "701 th shuffle \t\n",
            "727 th shuffle \t\n",
            "753 th shuffle \t\n",
            "779 th shuffle \t\n",
            "805 th shuffle \t\n",
            "831 th shuffle \t\n",
            "857 th shuffle \t\n",
            "883 th shuffle \t\n",
            "909 th shuffle \t\n",
            "935 th shuffle \t\n",
            "961 th shuffle \t\n",
            "987 th shuffle \t\n"
          ],
          "name": "stdout"
        }
      ]
    },
    {
      "cell_type": "markdown",
      "metadata": {
        "id": "YlzANS0FmVFB",
        "colab_type": "text"
      },
      "source": [
        "That's it !\n",
        "\n",
        "Thank you\n",
        "Best\n",
        "Youngho Seo"
      ]
    }
  ]
}